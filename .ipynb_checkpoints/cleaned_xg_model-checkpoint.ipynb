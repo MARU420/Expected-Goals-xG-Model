{
 "cells": [
  {
   "cell_type": "markdown",
   "id": "72289cd2",
   "metadata": {},
   "source": [
    "# 🧠 Building an Expected Goals (xG) Model\n",
    "This notebook processes football shot data to train an expected goals (xG) model using logistic regression."
   ]
  },
  {
   "cell_type": "code",
   "execution_count": null,
   "id": "870c3775",
   "metadata": {},
   "outputs": [],
   "source": [
    "# Uncomment and run if dependencies are not installed\n",
    "# !pip install pandas numpy matplotlib seaborn mplsoccer scikit-learn\n"
   ]
  },
  {
   "cell_type": "code",
   "execution_count": null,
   "id": "c4b3b68a",
   "metadata": {},
   "outputs": [],
   "source": [
    "import os\n",
    "import pandas as pd\n",
    "import numpy as np\n",
    "import matplotlib.pyplot as plt\n",
    "import seaborn as sns\n",
    "from sklearn.model_selection import train_test_split, GridSearchCV\n",
    "from sklearn.linear_model import LogisticRegression\n",
    "from sklearn.metrics import log_loss, roc_auc_score, brier_score_loss, classification_report, make_scorer\n",
    "from mplsoccer import Pitch\n",
    "from matplotlib.colors import LinearSegmentedColormap\n",
    "from sklearn.exceptions import ConvergenceWarning\n",
    "import warnings\n",
    "\n",
    "warnings.filterwarnings(\"ignore\", category=ConvergenceWarning)\n",
    "\n",
    "# Load data\n",
    "file_path = os.path.expanduser('~/Documents/GitHub/youtube-videos/data/xg_model.csv')\n",
    "try:\n",
    "    df = pd.read_csv(file_path)\n",
    "except FileNotFoundError:\n",
    "    raise FileNotFoundError(f\"File not found: {file_path}\")\n"
   ]
  },
  {
   "cell_type": "code",
   "execution_count": null,
   "id": "d09bb4a0",
   "metadata": {},
   "outputs": [],
   "source": [
    "print(\"Initial shape:\", df.shape)\n",
    "print(df[['x', 'y']].agg(['min', 'max']))\n",
    "print(\"Missing values:\\n\", df.isna().sum())\n",
    "\n",
    "# Drop irrelevant or unwanted columns\n",
    "cols_to_drop = ['DirectFreekick', 'DirectCorner', 'OwnGoal']\n",
    "df.drop(columns=cols_to_drop, inplace=True, errors='ignore')\n",
    "\n",
    "# Drop own goals if still present\n",
    "df = df[df.get('OwnGoal') != True] if 'OwnGoal' in df else df\n",
    "\n",
    "# Fill NaNs\n",
    "df.fillna(0, inplace=True)\n"
   ]
  },
  {
   "cell_type": "code",
   "execution_count": null,
   "id": "946780df",
   "metadata": {},
   "outputs": [],
   "source": [
    "# Cast to appropriate types\n",
    "df = df.astype({\n",
    "    'x': float, 'y': float, 'is_goal': bool, 'period': str,\n",
    "    'Assisted': bool, 'Zone': str, 'IndividualPlay': bool, 'RegularPlay': bool,\n",
    "    'LeftFoot': bool, 'RightFoot': bool, 'FromCorner': bool, 'FirstTouch': bool,\n",
    "    'Head': bool, 'BigChance': bool, 'SetPiece': bool, 'Volley': bool,\n",
    "    'FastBreak': bool, 'ThrowinSetPiece': bool, 'Penalty': bool,\n",
    "    'OneOnOne': bool, 'KeyPass': bool, 'OtherBodyPart': bool\n",
    "}, errors='ignore')\n"
   ]
  },
  {
   "cell_type": "code",
   "execution_count": null,
   "id": "6a41d1ab",
   "metadata": {},
   "outputs": [],
   "source": [
    "# Shot distance from goal (100, 50)\n",
    "df[\"shot_distance\"] = np.hypot(df[\"x\"] - 100, df[\"y\"] - 50)\n"
   ]
  },
  {
   "cell_type": "code",
   "execution_count": null,
   "id": "27ea3d06",
   "metadata": {},
   "outputs": [],
   "source": [
    "df = pd.get_dummies(df, columns=[\"period\", \"Zone\"], drop_first=True)\n"
   ]
  },
  {
   "cell_type": "code",
   "execution_count": null,
   "id": "770f5317",
   "metadata": {},
   "outputs": [],
   "source": [
    "X = df.drop('is_goal', axis=1)\n",
    "y = df['is_goal']\n",
    "\n",
    "X_train, X_test, y_train, y_test = train_test_split(X, y, test_size=0.2, random_state=42)\n"
   ]
  },
  {
   "cell_type": "code",
   "execution_count": null,
   "id": "9a2ab22e",
   "metadata": {},
   "outputs": [],
   "source": [
    "model = LogisticRegression(max_iter=1000)\n",
    "model.fit(X_train, y_train)\n",
    "y_pred_proba = model.predict_proba(X_test)[:, 1]\n",
    "\n",
    "print(\"Log Loss:\", log_loss(y_test, y_pred_proba))\n",
    "print(\"ROC AUC:\", roc_auc_score(y_test, y_pred_proba))\n",
    "print(\"Brier Score:\", brier_score_loss(y_test, y_pred_proba))\n"
   ]
  },
  {
   "cell_type": "code",
   "execution_count": null,
   "id": "37861f4a",
   "metadata": {},
   "outputs": [],
   "source": [
    "final_df = X_test.copy()\n",
    "final_df['goal_probability'] = y_pred_proba\n",
    "\n",
    "pitch = Pitch(pitch_type='opta')\n",
    "colors = ['red', 'yellow', 'green']\n",
    "cmap = LinearSegmentedColormap.from_list('xg_cmap', colors)\n",
    "\n",
    "fig, ax = pitch.draw(figsize=(10, 8))\n",
    "sc = pitch.scatter(final_df['x'], final_df['y'], c=final_df['goal_probability'],\n",
    "                   cmap=cmap, edgecolors='black', linewidth=0.5, s=100, ax=ax)\n",
    "cbar = plt.colorbar(sc, ax=ax, orientation='vertical', fraction=0.02, pad=0.02)\n",
    "cbar.set_label('xG Probability')\n",
    "plt.title('Shot Map Colored by xG')\n",
    "plt.tight_layout()\n",
    "plt.show()\n"
   ]
  },
  {
   "cell_type": "code",
   "execution_count": null,
   "id": "4781bbc7",
   "metadata": {},
   "outputs": [],
   "source": [
    "param_grid = {\n",
    "    'penalty': ['l1', 'l2'],\n",
    "    'C': [0.01, 0.1, 1, 10, 100],\n",
    "    'solver': ['liblinear'],\n",
    "    'max_iter': [100, 500, 1000]\n",
    "}\n",
    "\n",
    "scorer = make_scorer(roc_auc_score, needs_proba=True)\n",
    "grid_search = GridSearchCV(LogisticRegression(), param_grid, scoring=scorer, cv=3, verbose=1, n_jobs=-1)\n",
    "grid_search.fit(X_train, y_train)\n",
    "\n",
    "best_model = grid_search.best_estimator_\n",
    "y_pred_proba = best_model.predict_proba(X_test)[:, 1]\n",
    "\n",
    "print(\"Best Parameters:\", grid_search.best_params_)\n",
    "print(\"Best ROC AUC Score (CV):\", grid_search.best_score_)\n",
    "print(\"Test ROC AUC Score:\", roc_auc_score(y_test, y_pred_proba))\n",
    "\n",
    "y_pred = (y_pred_proba > 0.5).astype(int)\n",
    "print(\"\\nClassification Report:\\n\", classification_report(y_test, y_pred))\n"
   ]
  }
 ],
 "metadata": {},
 "nbformat": 4,
 "nbformat_minor": 5
}
